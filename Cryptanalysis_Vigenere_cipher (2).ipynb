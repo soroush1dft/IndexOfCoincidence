{
 "cells": [
  {
   "cell_type": "markdown",
   "metadata": {
    "id": "deu6NSNoDjrz"
   },
   "source": [
    "# Cryptanalysis of the Vigenere cipher\n",
    "**developed by:**\n",
    "\n",
    "**Sayed Soroush Daftarian (3806188) and Seyyed Mostafa Rahimi (3800582)**\n",
    "\n",
    "inputs : Cyphertext and maximum key length"
   ]
  },
  {
   "cell_type": "code",
   "execution_count": 1,
   "metadata": {
    "id": "cxrpAOtwF0OY",
    "tags": []
   },
   "outputs": [],
   "source": [
    "Ciphertext_Exercise3 = \"PATGSJKGSPFPCTSSKHOIGSDHNBCUHVIHKSHVBKPBQLEGVFSHPLTQFLYRWSRLYBSSRPPPPGIUOTUSHVPTZSVLNBCHCIWMIZSZKPWWZLZKXJWUCMWFCBCAACBKKGDBHOAPPMHVBKPBQLDXKWGPPXSZCUZHCNCVWGSOGRAWIVSTPHROFLBHGHVLYNQIBAEEWWGYAMJFBDDBRVVLKIIWAPOMXQOSHRPBHPYBEOHLZPDIZKXXCCZVJZTFHOWGIKCDAXZGCMYHJFGLPATKOYSTHBCAPHTBRZKJJWQRHR\""
   ]
  },
  {
   "cell_type": "code",
   "execution_count": 2,
   "metadata": {
    "id": "cKHWmGIFHiNd",
    "tags": []
   },
   "outputs": [],
   "source": [
    "MAX_KEY_LEN = 7"
   ]
  },
  {
   "cell_type": "markdown",
   "metadata": {
    "id": "Owa_uYcy6gpG"
   },
   "source": [
    "# Constants and variables for the whole exercise:\n",
    "At first it is necessary to determine each words of english language index of coincidence. so we build a dictionary which can identify all english words' frequency. Also it is necessary to determine the avarage of english words IC."
   ]
  },
  {
   "cell_type": "code",
   "execution_count": 3,
   "metadata": {
    "id": "2j2R3QnpvvVv",
    "tags": []
   },
   "outputs": [],
   "source": [
    "EN_REL_FREQ = {'A': 0.08167, 'B': 0.01492, 'C': 0.02782, 'D': 0.04253, 'E': 0.12702, 'F': 0.02228, 'G': 0.02015,\n",
    "               'H': 0.06094, 'I': 0.06966, 'J': 0.00153, 'K': 0.00772, 'L': 0.04025, 'M': 0.02406, 'N': 0.06749,\n",
    "               'O': 0.07507, 'P': 0.01929, 'Q': 0.00095, 'R': 0.05987, 'S': 0.06327, 'T': 0.09056, 'U': 0.02758,\n",
    "               'V': 0.00978, 'W': 0.02360, 'X': 0.00150, 'Y': 0.01974, 'Z': 0.00074}\n",
    "\n",
    "EN_IC = 0.65"
   ]
  },
  {
   "cell_type": "markdown",
   "metadata": {
    "id": "m_bBf_iT7RD6"
   },
   "source": [
    "# Some functions to work better with the text\n",
    "now we need some functions to analyse the text and get it ready for frequency analysis."
   ]
  },
  {
   "cell_type": "code",
   "execution_count": 4,
   "metadata": {
    "id": "Xgl8DSCH8hh8",
    "tags": []
   },
   "outputs": [],
   "source": [
    "def get_blocks(text, size):\n",
    "    blocks = [text[i:i+size] for i in range(0, len(text)-size, size)]\n",
    "    return blocks\n",
    "\n",
    "\n",
    "def get_columns(text_blocks):\n",
    "    group_size = len(text_blocks[0])\n",
    "    columns = []\n",
    "    for letter_count in range(group_size):\n",
    "        column = ''\n",
    "        for group_count in range(len(text_blocks)):\n",
    "            column += text_blocks[group_count][letter_count]\n",
    "        columns.append(column)\n",
    "    return columns\n",
    "\n",
    "\n",
    "def to_blocks(cols):\n",
    "    col_size = len(cols[0])\n",
    "    blocks = []\n",
    "    for letter in range(col_size):\n",
    "        block = ''\n",
    "        for col in range(len(cols)):\n",
    "            block += cols[col][letter]\n",
    "        blocks.append(block)\n",
    "    return blocks"
   ]
  },
  {
   "cell_type": "markdown",
   "metadata": {
    "id": "VND7XJIcAXLD"
   },
   "source": [
    "## Frequency Analysis\n",
    "Now it is time for frequency analysis.\n",
    "\n",
    "first we have to count every letter in the cipher text. for this we made get_letter_counts function."
   ]
  },
  {
   "cell_type": "code",
   "execution_count": 5,
   "metadata": {
    "colab": {
     "base_uri": "https://localhost:8080/",
     "height": 0
    },
    "id": "I-rN0NhvCPsS",
    "outputId": "fff5fd40-6c51-4ec4-c1ba-e10cde438487",
    "tags": []
   },
   "outputs": [
    {
     "name": "stdout",
     "output_type": "stream",
     "text": [
      "{'A': 11, 'B': 18, 'C': 16, 'D': 7, 'E': 4, 'F': 8, 'G': 14, 'H': 22, 'I': 11, 'J': 7, 'K': 15, 'L': 12, 'M': 6, 'N': 4, 'O': 10, 'P': 23, 'Q': 6, 'R': 10, 'S': 18, 'T': 10, 'U': 5, 'V': 12, 'W': 14, 'X': 7, 'Y': 7, 'Z': 13}\n"
     ]
    }
   ],
   "source": [
    "import string\n",
    "import matplotlib.pyplot as plt\n",
    "import numpy as np\n",
    "\n",
    "def get_letter_counts(text):\n",
    "\n",
    "  Count_of_Letter_Ni ={'A': 0 , 'B':0, 'C': 0, 'D': 0, 'E': 0, 'F': 0, 'G': 0,\n",
    "                'H': 0, 'I': 0, 'J': 0, 'K': 0, 'L': 0, 'M': 0, 'N': 0,\n",
    "                'O': 0, 'P': 0, 'Q': 0, 'R': 0, 'S': 0, 'T': 0, 'U': 0,\n",
    "                'V': 0, 'W': 0, 'X': 0, 'Y': 0, 'Z': 0}\n",
    "  res = {i: text.count(i) for i in set(text)}\n",
    "  Count_of_Letter_Ni.update(res)\n",
    "  return Count_of_Letter_Ni\n",
    "cipher_dictionary = get_letter_counts(Ciphertext_Exercise3)\n",
    "print(cipher_dictionary)\n",
    "\n"
   ]
  },
  {
   "cell_type": "markdown",
   "metadata": {
    "id": "sIYMdSjMS6m8"
   },
   "source": [
    "Now we can calculate every word's frequency. also its not bad to visualize the frequencies of the ciphered tex and the frequency of english language frequency."
   ]
  },
  {
   "cell_type": "code",
   "execution_count": 6,
   "metadata": {
    "colab": {
     "base_uri": "https://localhost:8080/",
     "height": 509
    },
    "id": "KSnO0kzkTjHl",
    "outputId": "123c6607-e3ad-4387-9096-7a6fe65fce4a",
    "tags": []
   },
   "outputs": [
    {
     "name": "stdout",
     "output_type": "stream",
     "text": [
      "{'A': 0.03793103448275862, 'B': 0.06206896551724138, 'C': 0.05517241379310345, 'D': 0.02413793103448276, 'E': 0.013793103448275862, 'F': 0.027586206896551724, 'G': 0.04827586206896552, 'H': 0.07586206896551724, 'I': 0.03793103448275862, 'J': 0.02413793103448276, 'K': 0.05172413793103448, 'L': 0.041379310344827586, 'M': 0.020689655172413793, 'N': 0.013793103448275862, 'O': 0.034482758620689655, 'P': 0.07931034482758621, 'Q': 0.020689655172413793, 'R': 0.034482758620689655, 'S': 0.06206896551724138, 'T': 0.034482758620689655, 'U': 0.017241379310344827, 'V': 0.041379310344827586, 'W': 0.04827586206896552, 'X': 0.02413793103448276, 'Y': 0.02413793103448276, 'Z': 0.04482758620689655}\n"
     ]
    },
    {
     "data": {
      "image/png": "[encoded data removed]",
      "text/plain": [
       "<Figure size 640x480 with 1 Axes>"
      ]
     },
     "metadata": {},
     "output_type": "display_data"
    }
   ],
   "source": [
    "import matplotlib.pyplot as plt\n",
    "\n",
    "def _get_letter_frequencies(text):\n",
    "    letter_counts = get_letter_counts(text)\n",
    "    frequencies = {letter: count/len(text) for letter, count in letter_counts.items()}\n",
    "    return frequencies\n",
    "frequence_of_cipher_dictionary = _get_letter_frequencies(Ciphertext_Exercise3)\n",
    "print(frequence_of_cipher_dictionary)\n",
    "\n",
    "letter_Ciphertext = list(frequence_of_cipher_dictionary.keys())\n",
    "freq_each_Ciphertext = list(frequence_of_cipher_dictionary.values())\n",
    "\n",
    "English_letter = letter_Ciphertext\n",
    "freq_each_Englishtxt = list(EN_REL_FREQ.values())\n",
    "X_axis = np.arange(len(frequence_of_cipher_dictionary))\n",
    "\n",
    "\n",
    "plt.bar(X_axis , freq_each_Ciphertext, tick_label = letter_Ciphertext)\n",
    "plt.title(\"Ciphertext Frequency\")\n",
    "plt.xticks(X_axis, letter_Ciphertext)\n",
    "plt.xlabel(\"Letters\")\n",
    "plt.ylabel(\"Freq\")\n",
    "plt.show()"
   ]
  },
  {
   "cell_type": "code",
   "execution_count": 7,
   "metadata": {
    "colab": {
     "base_uri": "https://localhost:8080/",
     "height": 472
    },
    "id": "iMgaPhMvu2Mk",
    "outputId": "107abcce-06dc-4eeb-e393-afd93c25ee36",
    "tags": []
   },
   "outputs": [
    {
     "data": {
      "image/png": "[encoded data removed]",
      "text/plain": [
       "<Figure size 640x480 with 1 Axes>"
      ]
     },
     "metadata": {},
     "output_type": "display_data"
    }
   ],
   "source": [
    "plt.bar(X_axis , freq_each_Englishtxt,tick_label = letter_Ciphertext)\n",
    "plt.title(\"English Language Frequency\")\n",
    "plt.xticks(X_axis, letter_Ciphertext)\n",
    "plt.xlabel(\"Letters\")\n",
    "plt.ylabel(\"Freq\")\n",
    "plt.show()"
   ]
  },
  {
   "cell_type": "markdown",
   "metadata": {
    "id": "ZmxYWeyBT3M8"
   },
   "source": [
    "now we write the function below for shifting all letters i positions back in the alphabet"
   ]
  },
  {
   "cell_type": "code",
   "execution_count": 8,
   "metadata": {
    "id": "bAExA8szfedm",
    "tags": []
   },
   "outputs": [],
   "source": [
    "def shifting(text, amount):\n",
    "    shifted = ''\n",
    "    letters = string.ascii_uppercase\n",
    "    for letter in text:\n",
    "        shifted += letters[(letters.index(letter)-amount) % len(letters)]\n",
    "    return shifted\n",
    "def _corr(text, lf):\n",
    "    return sum([(lf[letter] * EN_REL_FREQ[letter]) for letter in text])\n"
   ]
  },
  {
   "cell_type": "markdown",
   "metadata": {
    "id": "3VZPoWg1vmVo"
   },
   "source": [
    "now its time to calculate the key for different key legnthes"
   ]
  },
  {
   "cell_type": "code",
   "execution_count": 9,
   "metadata": {
    "id": "823G9HE_vgql",
    "tags": []
   },
   "outputs": [],
   "source": [
    "def _find_key_letter(text, lf):\n",
    "    key_letter = ''\n",
    "    max_corr = 0\n",
    "    for count, letter in enumerate(string.ascii_uppercase):\n",
    "        shifted = shifting(text=text, amount=count)\n",
    "        corr = _corr(text=shifted, lf=lf)\n",
    "        if corr > max_corr:\n",
    "            max_corr = corr\n",
    "            key_letter = letter\n",
    "    return key_letter\n",
    "\n",
    "\n",
    "def restore_key(cyphertext, key_len):\n",
    "    key = ''\n",
    "    blocks = get_blocks(text=cyphertext, size=key_len)\n",
    "    columns = get_columns(blocks)\n",
    "    frequencies = _get_letter_frequencies(text=cyphertext)\n",
    "    for column in columns:\n",
    "        key += _find_key_letter(text=column, lf=frequencies)\n",
    "    return key"
   ]
  },
  {
   "cell_type": "markdown",
   "metadata": {
    "id": "s_D9XAk7wdAl"
   },
   "source": [
    "# Index of Coincidence Calculation\n",
    "\n",
    "now with the functions written before calculating the Ic is possible:"
   ]
  },
  {
   "cell_type": "code",
   "execution_count": 10,
   "metadata": {
    "id": "pmlQF8dawboi",
    "tags": []
   },
   "outputs": [],
   "source": [
    "from sys import maxsize\n",
    "def _ic(letter_counts):\n",
    "    numerator = sum([letter_counts[l]*(letter_counts[l]-1) for l in string.ascii_uppercase])\n",
    "    text_size = sum(occurrences for occurrences in letter_counts.values())\n",
    "    denominator = text_size*(text_size-1)\n",
    "    return numerator/denominator\n",
    "\n",
    "\n",
    "def find_key_length(cyphertext, max_key_len):\n",
    "    min_diff = maxsize\n",
    "    key_len = 0\n",
    "    for candidate_length in range(1, max_key_len + 1):\n",
    "        groups = get_blocks(text=cyphertext, size=candidate_length)\n",
    "        columns = get_columns(groups)\n",
    "        ics = [_ic(letter_counts=get_letter_counts(text=column)) for column in columns]\n",
    "        delta_bar_ic = sum(ics) / len(ics)\n",
    "        if EN_IC-delta_bar_ic < min_diff:\n",
    "            min_diff = EN_IC-delta_bar_ic\n",
    "            key_len = candidate_length\n",
    "        print('KEY_LENGTH: ' + str(candidate_length) + '\\n')\n",
    "        print('IC by column: '+str(ics))\n",
    "        print('delta bar IC: '+str(delta_bar_ic)+'\\n')\n",
    "    return key_len\n",
    "\n"
   ]
  },
  {
   "cell_type": "markdown",
   "metadata": {
    "id": "3CdVdzhxx_nb"
   },
   "source": [
    "# Results\n",
    "Now its time for implemention all functions in order to decypher the Ciphertext"
   ]
  },
  {
   "cell_type": "code",
   "execution_count": 11,
   "metadata": {
    "colab": {
     "base_uri": "https://localhost:8080/",
     "height": 0
    },
    "id": "hKPxkq54yWlG",
    "outputId": "9d05c5f0-8b24-491b-f672-6e38922febc9",
    "tags": []
   },
   "outputs": [
    {
     "name": "stdout",
     "output_type": "stream",
     "text": [
      "Applying index of coincidence examination\n",
      "\n",
      "KEY_LENGTH: 1\n",
      "\n",
      "IC by column: [0.04342079969242599]\n",
      "delta bar IC: 0.04342079969242599\n",
      "\n",
      "KEY_LENGTH: 2\n",
      "\n",
      "IC by column: [0.04671717171717172, 0.043997668997669]\n",
      "delta bar IC: 0.04535742035742036\n",
      "\n",
      "KEY_LENGTH: 3\n",
      "\n",
      "IC by column: [0.04978070175438597, 0.054385964912280704, 0.04868421052631579]\n",
      "delta bar IC: 0.05095029239766082\n",
      "\n",
      "KEY_LENGTH: 4\n",
      "\n",
      "IC by column: [0.051643192488262914, 0.036384976525821594, 0.044209702660406885, 0.042644757433489826]\n",
      "delta bar IC: 0.043720657276995305\n",
      "\n",
      "KEY_LENGTH: 5\n",
      "\n",
      "IC by column: [0.03884711779448621, 0.03759398496240601, 0.040100250626566414, 0.046365914786967416, 0.042606516290726815]\n",
      "delta bar IC: 0.04110275689223057\n",
      "\n",
      "KEY_LENGTH: 6\n",
      "\n",
      "IC by column: [0.06382978723404255, 0.05939716312056738, 0.05053191489361702, 0.061170212765957445, 0.07092198581560284, 0.08244680851063829]\n",
      "delta bar IC: 0.06471631205673758\n",
      "\n",
      "KEY_LENGTH: 7\n",
      "\n",
      "IC by column: [0.03048780487804878, 0.03902439024390244, 0.03414634146341464, 0.041463414634146344, 0.042682926829268296, 0.04390243902439024, 0.041463414634146344]\n",
      "delta bar IC: 0.03902439024390244\n",
      "\n",
      "Chosen key length: 6\n",
      "Restored key: WTPOOH\n",
      "\n",
      "\n",
      "Plaintext: THESECONDBRIGADEWASPREPARINGTOMOVETOFRANCEINGREATSECRECYHEDECIDEDITWASUNSAFETOTAKEHERINTOBATTLESOWHILEDRIVINGTHROUGHLONDONONTHEWAYTOFRANCEHEVISITEDLONDONZOOANDASKEDTHEMTOCAREFORTHECUBUNTILHISRETURNWHICHHEOPTIMISTICALLYANTICIPATEDWOULDBENOLONGERTHANTWOWEEKSOFCOURSETHEWARWASNOTTOENDSOQUICK\n"
     ]
    }
   ],
   "source": [
    "\n",
    "def _decypher(cyphertext, key):\n",
    "    letters = string.ascii_uppercase\n",
    "    shifts = [letters.index(letter) for letter in key]\n",
    "    blocks = get_blocks(text=cyphertext,size=len(key))\n",
    "    cols = get_columns(blocks)\n",
    "    decyphered_blocks = to_blocks([shifting(col, shift) for col, shift in zip(cols, shifts)])\n",
    "    decyphered = ''.join(decyphered_blocks)\n",
    "    return decyphered\n",
    "\n",
    "\n",
    "\n",
    "def attack(text):\n",
    "\n",
    "    cyphertext = text\n",
    "    key_len = 0\n",
    "    print('Applying index of coincidence examination\\n')\n",
    "    key_len = find_key_length(cyphertext=cyphertext[0], max_key_len=MAX_KEY_LEN)\n",
    "    key = restore_key(cyphertext[0], key_len)\n",
    "    decyphered = _decypher(cyphertext[0], key)\n",
    "    print('Chosen key length: '+str(key_len))\n",
    "    print('Restored key: '+str(key))\n",
    "    print('\\n\\nPlaintext: '+str(decyphered))\n",
    "    last_res = str(decyphered)\n",
    "\n",
    "\n",
    "CipherTXT_INPUT = [Ciphertext_Exercise3]\n",
    "\n",
    "attack(CipherTXT_INPUT)\n"
   ]
  },
  {
   "cell_type": "markdown",
   "metadata": {
    "id": "dLWavUkkR4UK"
   },
   "source": [
    "**Plaintext:** THESECONDBRIGADEWASPREPARINGTOMOVETOFRANCEINGREATSECRECYHEDECIDEDITWASUNSAFETOTAKEHERINTOBATTLESOWHILEDRIVINGTHROUGHLONDONONTHEWAYTOFRANCEHEVISITEDLONDONZOOANDASKEDTHEMTOCAREFORTHECUBUNTILHISRETURNWHICHHEOPTIMISTICALLYANTICIPATEDWOULDBENOLONGERTHANTWOWEEKSOFCOURSETHEWARWASNOTTOENDSOQUICK\n"
   ]
  }
 ],
 "metadata": {
  "colab": {
   "provenance": []
  },
  "kernelspec": {
   "display_name": "Python 3 (ipykernel)",
   "language": "python",
   "name": "python3"
  },
  "language_info": {
   "codemirror_mode": {
    "name": "ipython",
    "version": 3
   },
   "file_extension": ".py",
   "mimetype": "text/x-python",
   "name": "python",
   "nbconvert_exporter": "python",
   "pygments_lexer": "ipython3",
   "version": "3.11.5"
  }
 },
 "nbformat": 4,
 "nbformat_minor": 4
}
